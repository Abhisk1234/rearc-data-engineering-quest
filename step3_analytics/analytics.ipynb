{
 "cells": [
  {
   "cell_type": "markdown",
   "metadata": {},
   "source": [
    "## Data Analytics"
   ]
  },
  {
   "cell_type": "code",
   "execution_count": 34,
   "metadata": {},
   "outputs": [],
   "source": [
    "import boto3\n",
    "import pandas as pd\n",
    "import json\n",
    "from io import StringIO"
   ]
  },
  {
   "cell_type": "markdown",
   "metadata": {},
   "source": [
    "### S3 client pointing to LocalStack"
   ]
  },
  {
   "cell_type": "code",
   "execution_count": 35,
   "metadata": {},
   "outputs": [],
   "source": [
    "\n",
    "s3 = boto3.client(\n",
    "    \"s3\",\n",
    "    endpoint_url=\"http://localhost:4566\",\n",
    "    aws_access_key_id=\"test\",\n",
    "    aws_secret_access_key=\"test\",\n",
    "    region_name=\"us-east-1\"\n",
    ")"
   ]
  },
  {
   "cell_type": "markdown",
   "metadata": {},
   "source": [
    " ### Loading CSV Data from S3 (LocalStack)"
   ]
  },
  {
   "cell_type": "code",
   "execution_count": 36,
   "metadata": {},
   "outputs": [],
   "source": [
    "csv_obj = s3.get_object(Bucket=\"bls-data\", Key=\"pub/time.series/pr/pr.data.0.Current\")\n",
    "csv_data = csv_obj[\"Body\"].read().decode(\"utf-8\")\n",
    "df_csv_data = pd.read_csv(StringIO(csv_data), delimiter=\"\\t\")\n",
    "df_csv_data.columns = df_csv_data.columns.str.strip()\n"
   ]
  },
  {
   "cell_type": "markdown",
   "metadata": {},
   "source": [
    " ### Loading JSON Data from S3 (LocalStack)"
   ]
  },
  {
   "cell_type": "code",
   "execution_count": 38,
   "metadata": {},
   "outputs": [],
   "source": [
    "json_obj = s3.get_object(Bucket=\"bls-data\", Key=\"api/datausa_population.json\")\n",
    "json_data = json.loads(json_obj[\"Body\"].read())\n",
    "df_population = pd.json_normalize(json_data['data'])"
   ]
  },
  {
   "cell_type": "markdown",
   "metadata": {},
   "source": [
    "### Clean and filter population data"
   ]
  },
  {
   "cell_type": "code",
   "execution_count": 39,
   "metadata": {},
   "outputs": [],
   "source": [
    "df_population[\"Year\"] = df_population[\"Year\"].astype(int)\n",
    "df_population[\"Population\"] = df_population[\"Population\"].astype(int)\n",
    "\n",
    "population_filtered = df_population[(df_population[\"Year\"] >= 2013) & (df_population[\"Year\"] <= 2018) & (df_population[\"Nation\"] == \"United States\")]"
   ]
  },
  {
   "cell_type": "markdown",
   "metadata": {},
   "source": [
    "### US Population Mean & Standard Deviation (2013–2018)"
   ]
  },
  {
   "cell_type": "code",
   "execution_count": 40,
   "metadata": {},
   "outputs": [
    {
     "name": "stdout",
     "output_type": "stream",
     "text": [
      "Mean Population (2013–2018): 317437383.0\n",
      "Std Dev Population (2013–2018): 4257089.5415293295\n"
     ]
    }
   ],
   "source": [
    "mean_pop = population_filtered[\"Population\"].mean()\n",
    "stddev_pop = population_filtered[\"Population\"].std()\n",
    "\n",
    "print(\"Mean Population (2013–2018):\", mean_pop)\n",
    "print(\"Std Dev Population (2013–2018):\", stddev_pop)"
   ]
  },
  {
   "cell_type": "markdown",
   "metadata": {},
   "source": [
    "### Clean CSV data"
   ]
  },
  {
   "cell_type": "code",
   "execution_count": 41,
   "metadata": {},
   "outputs": [],
   "source": [
    "df_csv_data[\"value\"] = pd.to_numeric(df_csv_data[\"value\"], errors=\"coerce\")\n",
    "df_csv_data = df_csv_data[df_csv_data[\"period\"].str.startswith(\"Q\")]\n"
   ]
  },
  {
   "cell_type": "markdown",
   "metadata": {},
   "source": [
    " ### Best Year per Series ID (Max Value Sum)"
   ]
  },
  {
   "cell_type": "code",
   "execution_count": 42,
   "metadata": {},
   "outputs": [
    {
     "name": "stdout",
     "output_type": "stream",
     "text": [
      "             series_id  year    value\n",
      "0    PRS30006011        2022   20.500\n",
      "1    PRS30006012        2022   17.100\n",
      "2    PRS30006013        1998  705.895\n",
      "3    PRS30006021        2010   17.700\n",
      "4    PRS30006022        2010   12.400\n",
      "..                 ...   ...      ...\n",
      "277  PRS88003192        2002  282.800\n",
      "278  PRS88003193        2024  861.350\n",
      "279  PRS88003201        2022   37.200\n",
      "280  PRS88003202        2022   28.700\n",
      "281  PRS88003203        2024  583.366\n",
      "\n",
      "[282 rows x 3 columns]\n"
     ]
    }
   ],
   "source": [
    "# Group and sum\n",
    "grouped = df_csv_data.groupby([\"series_id\", \"year\"])[\"value\"].sum().reset_index()\n",
    "\n",
    "# Find best year for each series_id\n",
    "best_years = grouped.loc[grouped.groupby(\"series_id\")[\"value\"].idxmax()].reset_index(drop=True)\n",
    "print(best_years)\n"
   ]
  },
  {
   "cell_type": "markdown",
   "metadata": {},
   "source": [
    "### Join Time-Series with Population"
   ]
  },
  {
   "cell_type": "code",
   "execution_count": 43,
   "metadata": {},
   "outputs": [
    {
     "name": "stdout",
     "output_type": "stream",
     "text": [
      "            series_id  year period  value   population\n",
      "0   PRS30006032        1995    Q01    0.0          NaN\n",
      "1   PRS30006032        1996    Q01   -4.2          NaN\n",
      "2   PRS30006032        1997    Q01    2.8          NaN\n",
      "3   PRS30006032        1998    Q01    0.9          NaN\n",
      "4   PRS30006032        1999    Q01   -4.1          NaN\n",
      "5   PRS30006032        2000    Q01    0.5          NaN\n",
      "6   PRS30006032        2001    Q01   -6.3          NaN\n",
      "7   PRS30006032        2002    Q01   -6.6          NaN\n",
      "8   PRS30006032        2003    Q01   -5.7          NaN\n",
      "9   PRS30006032        2004    Q01    2.0          NaN\n",
      "10  PRS30006032        2005    Q01   -0.5          NaN\n",
      "11  PRS30006032        2006    Q01    1.8          NaN\n",
      "12  PRS30006032        2007    Q01   -0.8          NaN\n",
      "13  PRS30006032        2008    Q01   -3.5          NaN\n",
      "14  PRS30006032        2009    Q01  -21.0          NaN\n",
      "15  PRS30006032        2010    Q01    3.2          NaN\n",
      "16  PRS30006032        2011    Q01    1.5          NaN\n",
      "17  PRS30006032        2012    Q01    2.5          NaN\n",
      "18  PRS30006032        2013    Q01    0.5  311536594.0\n",
      "19  PRS30006032        2014    Q01   -0.1  314107084.0\n",
      "20  PRS30006032        2015    Q01   -1.7  316515021.0\n",
      "21  PRS30006032        2016    Q01   -1.4  318558162.0\n",
      "22  PRS30006032        2017    Q01    0.9  321004407.0\n",
      "23  PRS30006032        2018    Q01    0.5  322903030.0\n",
      "24  PRS30006032        2019    Q01   -1.6  324697795.0\n",
      "25  PRS30006032        2020    Q01   -7.0  326569308.0\n",
      "26  PRS30006032        2021    Q01    0.7  329725481.0\n",
      "27  PRS30006032        2022    Q01    5.3  331097593.0\n",
      "28  PRS30006032        2023    Q01    0.3  332387540.0\n",
      "29  PRS30006032        2024    Q01   -0.7          NaN\n",
      "30  PRS30006032        2025    Q01    0.5          NaN\n"
     ]
    }
   ],
   "source": [
    "# Filter for specific series_id and period\n",
    "filtered_df = df_csv_data[\n",
    "    (df_csv_data[\"series_id\"].str.strip() == \"PRS30006032\") &\n",
    "    (df_csv_data[\"period\"].str.strip() == \"Q01\")\n",
    "].copy()\n",
    "\n",
    "filtered_df[\"year\"] = filtered_df[\"year\"].astype(int)\n",
    "filtered_df[\"value\"] = pd.to_numeric(filtered_df[\"value\"], errors=\"coerce\")\n",
    "\n",
    "# Join with population\n",
    "df_population.rename(columns={\"Year\": \"year\", \"Population\": \"population\"}, inplace=True)\n",
    "joined_df = pd.merge(filtered_df, df_population[[\"year\", \"population\"]], on=\"year\", how=\"left\")\n",
    "\n",
    "final_report = joined_df[[\"series_id\", \"year\", \"period\", \"value\", \"population\"]]\n",
    "print(final_report)"
   ]
  },
  {
   "cell_type": "code",
   "execution_count": null,
   "metadata": {},
   "outputs": [],
   "source": []
  }
 ],
 "metadata": {
  "kernelspec": {
   "display_name": "Python 3 (ipykernel)",
   "language": "python",
   "name": "python3"
  },
  "language_info": {
   "codemirror_mode": {
    "name": "ipython",
    "version": 3
   },
   "file_extension": ".py",
   "mimetype": "text/x-python",
   "name": "python",
   "nbconvert_exporter": "python",
   "pygments_lexer": "ipython3",
   "version": "3.12.3"
  }
 },
 "nbformat": 4,
 "nbformat_minor": 2
}
